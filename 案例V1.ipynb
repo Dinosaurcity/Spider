{
 "cells": [
  {
   "cell_type": "code",
   "execution_count": 11,
   "metadata": {},
   "outputs": [
    {
     "name": "stdout",
     "output_type": "stream",
     "text": [
      "b'<html>\\r\\n<head>\\r\\n\\t<script>\\r\\n\\t\\tlocation.replace(location.href.replace(\"https://\",\"http://\"));\\r\\n\\t</script>\\r\\n</head>\\r\\n<body>\\r\\n\\t<noscript><meta http-equiv=\"refresh\" content=\"0;url=http://www.baidu.com/\"></noscript>\\r\\n</body>\\r\\n</html>'\n",
      "<class 'bytes'>\n",
      "<html>\r\n",
      "<head>\r\n",
      "\t<script>\r\n",
      "\t\tlocation.replace(location.href.replace(\"https://\",\"http://\"));\r\n",
      "\t</script>\r\n",
      "</head>\r\n",
      "<body>\r\n",
      "\t<noscript><meta http-equiv=\"refresh\" content=\"0;url=http://www.baidu.com/\"></noscript>\r\n",
      "</body>\r\n",
      "</html>\n"
     ]
    }
   ],
   "source": [
    "from urllib import request\n",
    "'''\n",
    "使用urllib.request请求一个网页内容，并把网页打印出来\n",
    "'''\n",
    "if __name__ == '__main__':\n",
    "    url =\" https://www.baidu.com/s?ie=utf-8&f=8&rsv_bp=1&rsv_idx=1&tn=baidu&wd=%E6%9C%BA%E5%99%A8%E5%AD%A6%E4%B9%A0&rsv_pq=9ccb834f0000de78&rsv_t=86dfSsFbIvoIhgDgUUoUxxnT8K3T5bM538Ui7sjQUnINU6Z7I82BCs%2BQU7Y&rqlang=cn&rsv_enter=1&rsv_sug3=16&rsv_sug1=21&rsv_sug7=101&rsv_sug2=0&inputT=143383&rsv_sug4=143383\"\n",
    "    # 打开相应url并把相应的页面作为返回\n",
    "    rsp = request.urlopen(url)\n",
    "    #读取返回结果\n",
    "    #读取出来的内容类型为bytes\n",
    "    html = rsp.read()\n",
    "    print(html)\n",
    "    print(type(html))\n",
    "    #如果转成字符串，需要解码\n",
    "    html = html.decode('utf-8')\n",
    "    print(html)"
   ]
  }
 ],
 "metadata": {
  "kernelspec": {
   "display_name": "Python 3",
   "language": "python",
   "name": "python3"
  },
  "language_info": {
   "codemirror_mode": {
    "name": "ipython",
    "version": 3
   },
   "file_extension": ".py",
   "mimetype": "text/x-python",
   "name": "python",
   "nbconvert_exporter": "python",
   "pygments_lexer": "ipython3",
   "version": "3.6.4"
  }
 },
 "nbformat": 4,
 "nbformat_minor": 2
}
